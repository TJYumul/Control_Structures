{
  "nbformat": 4,
  "nbformat_minor": 0,
  "metadata": {
    "colab": {
      "provenance": []
    },
    "kernelspec": {
      "name": "python3",
      "display_name": "Python 3"
    },
    "language_info": {
      "name": "python"
    }
  },
  "cells": [
    {
      "cell_type": "markdown",
      "source": [
        "# Lab Quiz 1\n",
        "\n",
        "Create a python program that collects student information from the user via console input.  \n",
        "\n",
        "Prompts for last name, first name, section, program, and birth year.  It then computes the student's age (2025 - birth year).\n",
        "\n",
        "Prompt also hobby1, hobby2, hobby3 and store it on a list named hobbies.\n",
        "\n",
        "The collected last name, first name, section, program, hobbies, and computed age are stored in a dictionary named student_info.\n",
        "\n",
        "Print the content of the dictionary by concatenated last name and first name, program, section, hobbies, and age."
      ],
      "metadata": {
        "id": "oaqf3nle8yig"
      }
    },
    {
      "cell_type": "code",
      "source": [
        "# Student Information\n",
        "print(\"\\n--- Student Information ---\")\n",
        "lastName = input(\"Enter your last name: \")\n",
        "firstName = input(\"Enter your first name: \")\n",
        "section = input(\"Enter your section: \")\n",
        "program = input(\"Enter your program: \")\n",
        "birthYear = int(input(\"Enter your birth year: \"))\n",
        "\n",
        "currentYear = 2025\n",
        "age = currentYear - birthYear\n",
        "\n",
        "# Hobbies\n",
        "print(\"\\n--- Hobbies ---\")\n",
        "hobby1 = input(\"Hobby 1: \")\n",
        "hobby2 = input(\"Hobby 2: \")\n",
        "hobby3 = input(\"Hobby 3: \")\n",
        "\n",
        "# List\n",
        "hobbies = [hobby1, hobby2, hobby3]\n",
        "\n",
        "# Dictionary\n",
        "studentInfo = {\n",
        "    \"lastName\": lastName,\n",
        "    \"firstName\": firstName,\n",
        "    \"section\": section,\n",
        "    \"program\": program,\n",
        "    \"hobbies\": hobbies,\n",
        "    \"age\": age\n",
        "}\n",
        "\n",
        "# Display Student Information\n",
        "print(\"\\n--- Stored Student Information ---\")\n",
        "print(f\"Name: {studentInfo['firstName']} {studentInfo['lastName']}\")\n",
        "print(f\"Program: {studentInfo['program']}\")\n",
        "print(f\"Section: {studentInfo['section']}\")\n",
        "print(f\"Hobbies: {', '.join(studentInfo['hobbies'])}\")\n",
        "print(f\"Age: {studentInfo['age']}\")"
      ],
      "metadata": {
        "colab": {
          "base_uri": "https://localhost:8080/"
        },
        "id": "3qG1iSXO827Y",
        "outputId": "d7456bf9-0085-4878-9043-989464110964"
      },
      "execution_count": null,
      "outputs": [
        {
          "output_type": "stream",
          "name": "stdout",
          "text": [
            "\n",
            "--- Student Information ---\n",
            "Enter your last name: Yumul\n",
            "Enter your first name: TJ William\n",
            "Enter your section: BSCS2\n",
            "Enter your program: Computer Science\n",
            "Enter your birth year: 2004\n",
            "\n",
            "--- Hobbies ---\n",
            "Hobby 1: Basketball\n",
            "Hobby 2: Guitar\n",
            "Hobby 3: Jogging\n",
            "\n",
            "--- Stored Student Information ---\n",
            "Name: TJ William Yumul\n",
            "Program: Computer Science\n",
            "Section: BSCS2\n",
            "Hobbies: Basketball, Guitar, Jogging\n",
            "Age: 21\n"
          ]
        }
      ]
    }
  ]
}