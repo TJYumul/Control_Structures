{
  "nbformat": 4,
  "nbformat_minor": 0,
  "metadata": {
    "colab": {
      "provenance": []
    },
    "kernelspec": {
      "name": "python3",
      "display_name": "Python 3"
    },
    "language_info": {
      "name": "python"
    }
  },
  "cells": [
    {
      "cell_type": "markdown",
      "source": [
        "# Lab SW2\n",
        "\n",
        "Develop a Python program for a business that automates inventory reordering. The program should:\n",
        "\n",
        "1. Maintain a list of products and their stock levels.\n",
        "1. Continuously check inventory levels using a loop. Use for loop range\n",
        "1. Use an if-elif-else statement to determine when to reorder:\n",
        "\n",
        "If stock is below the critical threshold, print \"place an urgent reorder\".\n",
        "\n",
        "If stock is below the optimal threshold but above the critical level, print \"place a standard reorder\".\n",
        "\n",
        "If stock is sufficient, print \"no reorder is needed\".\n",
        "\n",
        "List of products and stock is stored in dictionary dict_products:\n",
        "\n",
        "dict_products = { \"laptop\" : 5, \"mouse\": 10, \"keyboard\" : 3 }\n",
        "\n",
        "critical_threshold = 4\n",
        "\n",
        "critical_level = 5\n"
      ],
      "metadata": {
        "id": "Mp4LaBVt6K-2"
      }
    },
    {
      "cell_type": "code",
      "source": [
        "dict_products = { \"laptop\": 5, \"mouse\": 10, \"keyboard\": 3 }\n",
        "\n",
        "critical_threshold = 4\n",
        "\n",
        "critical_level = 5\n",
        "\n",
        "for products, stock in dict_products.items():\n",
        "\n",
        "    if stock < critical_threshold:\n",
        "        print(\"Place an urgent reorder.\")\n",
        "    elif stock <= critical_level:\n",
        "        print(\"Place a standard reorder.\")\n",
        "    else:\n",
        "        print(\"No reorder is needed.\")\n"
      ],
      "metadata": {
        "colab": {
          "base_uri": "https://localhost:8080/"
        },
        "id": "F74pFheK7L6V",
        "outputId": "a38e616b-c7dc-4fdb-b0c0-cbc689a45ffc"
      },
      "execution_count": null,
      "outputs": [
        {
          "output_type": "stream",
          "name": "stdout",
          "text": [
            "Place a standard reorder.\n",
            "No reorder is needed.\n",
            "Place an urgent reorder.\n"
          ]
        }
      ]
    }
  ]
}