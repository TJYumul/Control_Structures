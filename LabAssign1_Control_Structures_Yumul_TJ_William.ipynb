{
  "nbformat": 4,
  "nbformat_minor": 0,
  "metadata": {
    "colab": {
      "provenance": []
    },
    "kernelspec": {
      "name": "python3",
      "display_name": "Python 3"
    },
    "language_info": {
      "name": "python"
    }
  },
  "cells": [
    {
      "cell_type": "markdown",
      "source": [
        "# **Lab Assign 1 Control Structures**"
      ],
      "metadata": {
        "id": "ppygxLvTizaJ"
      }
    },
    {
      "cell_type": "markdown",
      "source": [
        "1. Develop a Python program that applies discounts to products based on their prices. The program should:\n",
        "    - Store product names and prices in a dictionary.\n",
        "    - Use a for loop with range() to process each product.\n",
        "    - Apply an if-elif-else statement to categorize discounts:\n",
        "        - If the price is above $500, apply a 20% discount.\n",
        "        - If the price is between $100 and $500, apply a 10% discount.\n",
        "        - If the price is below $100, apply no discount.\n",
        "\n",
        "Use the following products with its discount as test data:\n",
        "\n",
        "| Product Name | Price |\n",
        "|--------------|-------|\n",
        "|    Laptop    |  800  |\n",
        "|  Headphones  |   75  |\n",
        "|  Smartphone  |  450  |\n",
        "|    Tablet    |  200  |\n",
        "|    Monitor   |  600  |"
      ],
      "metadata": {
        "id": "6zVBUiZMi1GJ"
      }
    },
    {
      "cell_type": "code",
      "source": [
        "products = {\n",
        "    \"Laptop\": 800,\n",
        "    \"Headphones\": 75,\n",
        "    \"Smartphone\": 450,\n",
        "    \"Table\": 200,\n",
        "    \"Monitor\": 600,\n",
        "}\n",
        "\n",
        "product_list = list(products.items())\n",
        "\n",
        "for i in range(len(product_list)):\n",
        "  product, price = product_list[i]\n",
        "\n",
        "  if price > 500:\n",
        "      discount = price * 0.20\n",
        "  elif price >= 100 and price <= 500:\n",
        "      discount= price * 0.10\n",
        "  else:\n",
        "       discount = price * 0.0\n",
        "\n",
        "  final_price = price - discount\n",
        "  print(f\"{product}: ${final_price}\")"
      ],
      "metadata": {
        "colab": {
          "base_uri": "https://localhost:8080/"
        },
        "id": "wMVhDVx9i0MF",
        "outputId": "6e1dd257-4130-4477-c87d-ed1911f14efe"
      },
      "execution_count": null,
      "outputs": [
        {
          "output_type": "stream",
          "name": "stdout",
          "text": [
            "Laptop: $640.0\n",
            "Headphones: $75.0\n",
            "Smartphone: $405.0\n",
            "Table: $180.0\n",
            "Monitor: $480.0\n"
          ]
        }
      ]
    },
    {
      "cell_type": "markdown",
      "source": [
        "2. You are organizing a tech conference where attendees register for different sessions. Some attendees may register for multiple sessions, but you need to determine the total number of unique participants across all sessions.\n",
        "\n",
        "  Write a Python program that:\n",
        "    - Takes a list of attendees for each session.\n",
        "    - Uses sets to find the unique attendees.\n",
        "    - Outputs the total number of unique participants.\n",
        "\n",
        "  Use this test data in your program:\n",
        "\n",
        "        Session 1 attendees: Alice, Bob, Charlie\n",
        "        Session 2 attendees:  Charlie, David, Alice\n",
        "        Session 3 attendees:  Eve, Frank, Alice\n",
        "\n",
        "  **Hint**:  You will use union to combine all sessions\n",
        "\n",
        "\n"
      ],
      "metadata": {
        "id": "LTs1u_rmjHnc"
      }
    },
    {
      "cell_type": "code",
      "source": [
        "session1 = [\"Alice\", \"Bob\", \"Charlie\"]\n",
        "session2 = [\"Charlie\", \"David\", \"Alice\"]\n",
        "session3 = [\"Eve\", \"Frank\", \"Alice\"]\n",
        "\n",
        "set1 = set(session1)\n",
        "set2 = set(session2)\n",
        "set3 = set(session3)\n",
        "\n",
        "attendees = set1.union(set2, set3)\n",
        "\n",
        "print(f\"attendees\", attendees)"
      ],
      "metadata": {
        "colab": {
          "base_uri": "https://localhost:8080/"
        },
        "id": "pxCSWrUSjKN_",
        "outputId": "a4ec0386-ce75-4eb3-fc7a-c47a13b44d3c"
      },
      "execution_count": null,
      "outputs": [
        {
          "output_type": "stream",
          "name": "stdout",
          "text": [
            "attendees {'Bob', 'Charlie', 'David', 'Alice', 'Eve', 'Frank'}\n"
          ]
        }
      ]
    },
    {
      "cell_type": "markdown",
      "source": [
        "3. You are tracking the temperature readings of a city for 7 days. Given a list of recorded temperatures, write a Python program that:\n",
        "    - Uses a for loop with range() to iterate over the temperature readings.\n",
        "    - Computes the total and average temperature for the week.\n",
        "    - Displays both the total and average temperature.\n",
        "\n",
        "Use this temperatures as your sample data: 30, 32, 29, 31, 28, 27, 33\n",
        "\n",
        "**Note**: Use round() function to average temperature. Use 2 decimal places for the decimal point.\n"
      ],
      "metadata": {
        "id": "k6GLjzgOk5ay"
      }
    },
    {
      "cell_type": "code",
      "source": [
        "temperature_data = [30, 32, 29, 31, 28, 27, 33]\n",
        "\n",
        "for i in range (len(temperature_data)):\n",
        "    print(f\"Day {i+1} temperature: {temperature_data[i]}\")\n",
        "\n",
        "total = sum(temperature_data)\n",
        "average = total/len(temperature_data)\n",
        "\n",
        "print(f\"\\nTotal Temperature: {total} \\nAverage Temperature: {round(average, 2)}\")"
      ],
      "metadata": {
        "colab": {
          "base_uri": "https://localhost:8080/"
        },
        "id": "Kq2N5maOlAZb",
        "outputId": "1aeb4313-0478-4ebc-b831-f8426d5397ed"
      },
      "execution_count": null,
      "outputs": [
        {
          "output_type": "stream",
          "name": "stdout",
          "text": [
            "Day 1 temperature: 30\n",
            "Day 2 temperature: 32\n",
            "Day 3 temperature: 29\n",
            "Day 4 temperature: 31\n",
            "Day 5 temperature: 28\n",
            "Day 6 temperature: 27\n",
            "Day 7 temperature: 33\n",
            "\n",
            "Total Temperature: 210 \n",
            "Average Temperature: 30.0\n"
          ]
        }
      ]
    }
  ]
}